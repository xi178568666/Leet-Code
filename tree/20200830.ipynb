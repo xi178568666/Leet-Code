{
 "cells": [
  {
   "cell_type": "markdown",
   "metadata": {},
   "source": [
    "### 101 对称二叉树\n",
    "给定一个二叉树，检查它是否是镜像对称的。\n",
    "\n",
    " \n",
    "\n",
    "例如，二叉树 [1,2,2,3,4,4,3] 是对称的。\n",
    "\n",
    "    1\n",
    "   / \\\n",
    "  2   2\n",
    " / \\ / \\\n",
    "3  4 4  3\n",
    " \n",
    "\n",
    "但是下面这个 [1,2,2,null,3,null,3] 则不是镜像对称的:\n",
    "\n",
    "    1\n",
    "   / \\\n",
    "  2   2\n",
    "   \\   \\\n",
    "   3    3\n",
    " \n",
    "\n",
    "进阶：\n",
    "\n",
    "你可以运用递归和迭代两种方法解决这个问题吗？\n",
    "\n",
    "来源：力扣（LeetCode）\n",
    "链接：https://leetcode-cn.com/problems/symmetric-tree\n",
    "著作权归领扣网络所有。商业转载请联系官方授权，非商业转载请注明出处。"
   ]
  },
  {
   "attachments": {
    "image.png": {
     "image/png": "[encoded data removed]"
    }
   },
   "cell_type": "markdown",
   "metadata": {},
   "source": [
    "#### 思路\n",
    "![image.png](attachment:image.png)"
   ]
  },
  {
   "cell_type": "markdown",
   "metadata": {},
   "source": [
    "上图是一个对称树，我发现逐层交换右子树的左右节点后，得到新的右子树和左子树是同一棵树。那么我的想法是先交换右子树的每一层的左右节点，然后判断左子树和右子树是不是同一棵树。  \n",
    "\n",
    "\n",
    "C++ 代码："
   ]
  },
  {
   "cell_type": "code",
   "execution_count": null,
   "metadata": {},
   "outputs": [],
   "source": [
    "class Solution {\n",
    "public:\n",
    "    bool isSymmetric(TreeNode* root) {\n",
    "        if(root == NULL) return true;\n",
    "        TreeNode* rc = root->right;\n",
    "        swapTree(rc);\n",
    "        return isSametree(root->left, root->right);\n",
    "    }\n",
    "    int swapTree(TreeNode* root){\n",
    "        if(root == NULL) return 0;\n",
    "        TreeNode* temp = root->left;\n",
    "        root->left = root->right;\n",
    "        root->right = temp;\n",
    "        swapTree(root->left);\n",
    "        swapTree(root->right);\n",
    "        return 1;\n",
    "    }\n",
    "    bool isSametree(TreeNode *p, TreeNode *q){\n",
    "        if(p == NULL && q == NULL) return true;\n",
    "        else if(p == NULL || q == NULL) return false;\n",
    "        else if(p->val != q->val) return false;\n",
    "        else return isSametree(p->left, q->left) && isSametree(p->right, q->right);\n",
    "    }\n",
    "};"
   ]
  },
  {
   "cell_type": "markdown",
   "metadata": {},
   "source": [
    "### 104 二叉树的最大深度\n",
    "给定一个二叉树，找出其最大深度。\n",
    "\n",
    "二叉树的深度为根节点到最远叶子节点的最长路径上的节点数。\n",
    "\n",
    "说明: 叶子节点是指没有子节点的节点。\n",
    "\n",
    "示例：\n",
    "给定二叉树 [3,9,20,null,null,15,7]，\n",
    "\n",
    "    3\n",
    "   / \\\n",
    "  9  20\n",
    "    /  \\\n",
    "   15   7\n",
    "返回它的最大深度 3 。\n",
    "\n",
    "来源：力扣（LeetCode）\n",
    "链接：https://leetcode-cn.com/problems/maximum-depth-of-binary-tree\n",
    "著作权归领扣网络所有。商业转载请联系官方授权，非商业转载请注明出处。"
   ]
  },
  {
   "cell_type": "markdown",
   "metadata": {},
   "source": [
    "#### 思路\n",
    "假设二叉树共有n个叶子节点，用$f(i)$表示根节点到第i个叶子节点的路径数，那么问题转为：\n",
    "$max_{1<=i<=n}f(i)$"
   ]
  },
  {
   "cell_type": "markdown",
   "metadata": {},
   "source": [
    "怎么得到$f(i)$呢？"
   ]
  },
  {
   "cell_type": "markdown",
   "metadata": {},
   "source": [
    "使用深度优先搜索，每经过一个节点，那么路径数加1，直到走到叶子节点i，于是就得到$f(i)$.同时我们并不需要保存$f(i)$的值，只需要保存$f(i)$和之前的最大深度之间的最大值。  \n",
    "\n",
    "C++ 代码："
   ]
  },
  {
   "cell_type": "code",
   "execution_count": null,
   "metadata": {},
   "outputs": [],
   "source": [
    "/**\n",
    " * Definition for a binary tree node.\n",
    " * struct TreeNode {\n",
    " *     int val;\n",
    " *     TreeNode *left;\n",
    " *     TreeNode *right;\n",
    " *     TreeNode(int x) : val(x), left(NULL), right(NULL) {}\n",
    " * };\n",
    " */\n",
    "class Solution {\n",
    "public:\n",
    "    int maxDepth(TreeNode* root) {\n",
    "        if(root == NULL) return 0;\n",
    "        int len_path = 0;\n",
    "        return searchTree(root, len_path);\n",
    "    }\n",
    "    int searchTree(TreeNode* root, int len_path){\n",
    "        if(root->left == NULL && root->right == NULL) return len_path + 1;\n",
    "        int left = 0, right = 0;\n",
    "        if(root->left != NULL) left = searchTree(root->left, len_path + 1);\n",
    "        if(root->right != NULL) right = searchTree(root->right, len_path + 1);\n",
    "        return left > right ? left : right;\n",
    "\n",
    "    }\n",
    "};"
   ]
  },
  {
   "cell_type": "markdown",
   "metadata": {},
   "source": [
    "### 94 二叉树的中序遍历\n",
    "给定一个二叉树，返回它的中序 遍历。\n",
    "\n",
    "示例:\n",
    "\n",
    "输入: [1,null,2,3]\n",
    "   1\n",
    "    \\\n",
    "     2\n",
    "    /\n",
    "   3\n",
    "\n",
    "输出: [1,3,2]\n",
    "进阶: 递归算法很简单，你可以通过迭代算法完成吗？\n",
    "\n",
    "来源：力扣（LeetCode）\n",
    "链接：https://leetcode-cn.com/problems/binary-tree-inorder-traversal\n",
    "著作权归领扣网络所有。商业转载请联系官方授权，非商业转载请注明出处。"
   ]
  },
  {
   "cell_type": "markdown",
   "metadata": {},
   "source": [
    "#### 思路\n",
    "递归：树的中序遍历先遍历节点的左孩子，再遍历节点，再遍历节点的右孩子。使用一个数组保存所有的节点值，按遍历顺序压入。\n",
    "C++ 代码"
   ]
  },
  {
   "cell_type": "code",
   "execution_count": null,
   "metadata": {},
   "outputs": [],
   "source": [
    "class Solution {\n",
    "public:\n",
    "    vector<int> inorderTraversal(TreeNode* root) {\n",
    "        vector<int> res;\n",
    "        \n",
    "        return traversal(root, res);\n",
    "    }\n",
    "    vector<int> traversal(TreeNode* root, vector<int>& res){\n",
    "        if(root == NULL) return res;\n",
    "        res = traversal(root->left, res);\n",
    "        res.push_back(root->val);\n",
    "        res = traversal(root->right, res);\n",
    "        return res;\n",
    "    }\n",
    "};"
   ]
  },
  {
   "cell_type": "markdown",
   "metadata": {},
   "source": [
    "迭代：迭代使用一个辅助栈帮助进行，中序遍历先找到最左边的叶子节点，路径上的每个节点都压入栈中，遍历左节点后遍历左节点的父节点，再遍历父节点的右子节点。  \n",
    "C++ 代码："
   ]
  },
  {
   "cell_type": "code",
   "execution_count": null,
   "metadata": {},
   "outputs": [],
   "source": [
    "class Solution {\n",
    "public:\n",
    "    vector<int> inorderTraversal(TreeNode* root) {\n",
    "        vector<int> res;\n",
    "        if(root == NULL) return res;\n",
    "        stack<TreeNode*> helper;\n",
    "        TreeNode* rt = root;\n",
    "        while(rt != NULL || !helper.empty()){\n",
    "            while(rt != NULL){\n",
    "                helper.push(rt);\n",
    "                rt = rt->left;\n",
    "            }\n",
    "            rt = helper.top();\n",
    "            res.push_back(rt->val);\n",
    "            helper.pop();\n",
    "            rt = rt->right;\n",
    "        }\n",
    "        return res;\n",
    "    }\n",
    "};"
   ]
  },
  {
   "cell_type": "markdown",
   "metadata": {},
   "source": [
    "### 95 不同的二叉搜索树 2\n",
    "给定一个整数 n，生成所有由 1 ... n 为节点所组成的 二叉搜索树 。\n",
    "\n",
    " \n",
    "\n",
    "示例：\n",
    "\n",
    "输入：3\n",
    "输出：\n",
    "[\n",
    "  [1,null,3,2],\n",
    "  [3,2,null,1],\n",
    "  [3,1,null,null,2],\n",
    "  [2,1,3],\n",
    "  [1,null,2,null,3]\n",
    "]\n",
    "解释：\n",
    "以上的输出对应以下 5 种不同结构的二叉搜索树：\n",
    "\n",
    "   1         3     3      2      1\n",
    "    \\       /     /      / \\      \\\n",
    "     3     2     1      1   3      2\n",
    "    /     /       \\                 \\\n",
    "   2     1         2                 3\n",
    " \n",
    "\n",
    "提示：\n",
    "\n",
    "0 <= n <= 8\n",
    "\n",
    "来源：力扣（LeetCode）\n",
    "链接：https://leetcode-cn.com/problems/unique-binary-search-trees-ii\n",
    "著作权归领扣网络所有。商业转载请联系官方授权，非商业转载请注明出处。"
   ]
  },
  {
   "cell_type": "markdown",
   "metadata": {},
   "source": [
    "### 思路\n",
    "首先要知道二叉搜索树是什么？  \n",
    "⼆叉搜索树（Binary Search Tree， 简称 BST） 是⼀种很常⽤的的⼆叉树。 它的定义是： ⼀个⼆叉树中， 任意节点的值要⼤于等于左⼦树所有节点的值，且要⼩于等于右边⼦树的所有节点的值。"
   ]
  },
  {
   "attachments": {
    "image.png": {
     "image/png": "[encoded data removed]"
    }
   },
   "cell_type": "markdown",
   "metadata": {},
   "source": [
    "![image.png](attachment:image.png)"
   ]
  },
  {
   "cell_type": "markdown",
   "metadata": {},
   "source": [
    "那么，我的想法是，外层循环选择所有可能的根节点，然后递归生成所有可能的左子树，递归生成所有可能的右子树，然后从左子树集合和右子树集合中选择一个组合拼接到根节点形成一颗二叉搜索树。"
   ]
  },
  {
   "cell_type": "code",
   "execution_count": null,
   "metadata": {},
   "outputs": [],
   "source": [
    "class Solution{\n",
    "public:\n",
    "    vector<TreeNode*> generateTrees(int start, int end){\n",
    "        if(start > end) return nullptr;\n",
    "        vector<TreeNode*> allTrees;\n",
    "        for (int i = start; i <= end; ++i){\n",
    "            vector<TreeNode*> leftTrees = generateTrees(start, i-1);\n",
    "            vector<TreeNode*> rightTrees = generateTrees(i + 1, end);\n",
    "            for(auto& left: leftTrees){\n",
    "                for(auto& right: rightTrees){\n",
    "                    TreeNode* currTree = new TreeNode(i);\n",
    "                    currTree->left = left;\n",
    "                    currTree->right = right;\n",
    "                    allTrees.emplace_back(currTree);\n",
    "                }\n",
    "            }\n",
    "        }\n",
    "        return allTrees;\n",
    "    }\n",
    "    vector<TreeNode*> generateTrees(int n){\n",
    "        if(!n) return {};\n",
    "        return generateTrees(1, n);\n",
    "    }\n",
    "};"
   ]
  },
  {
   "cell_type": "markdown",
   "metadata": {},
   "source": [
    "### 96 不同的二叉搜索树1\n",
    "给定一个整数 n，求以 1 ... n 为节点组成的二叉搜索树有多少种？\n",
    "\n",
    "示例:\n",
    "\n",
    "输入: 3\n",
    "输出: 5\n",
    "解释:\n",
    "给定 n = 3, 一共有 5 种不同结构的二叉搜索树:\n",
    "\n",
    "   1         3     3      2      1\n",
    "    \\       /     /      / \\      \\\n",
    "     3     2     1      1   3      2\n",
    "    /     /       \\                 \\\n",
    "   2     1         2                 3\n",
    "\n",
    "来源：力扣（LeetCode）\n",
    "链接：https://leetcode-cn.com/problems/unique-binary-search-trees\n",
    "著作权归领扣网络所有。商业转载请联系官方授权，非商业转载请注明出处。"
   ]
  },
  {
   "cell_type": "markdown",
   "metadata": {},
   "source": [
    "#### 思路\n",
    "用$f(i)$表示以$i$为根节点的二叉搜索树的个数，用$G(n)$表示总的个数，那么有：  \n",
    "$G(n) = \\sum^n_{i=1}f(i)$"
   ]
  },
  {
   "cell_type": "markdown",
   "metadata": {},
   "source": [
    "当$i$为根节点时，左子树共有$G(i-1)$棵，右子树共有$G(n-i)$棵，以$i$为根节点的二叉搜索树共有$f(i)=G(i-1)G(n-i)$棵。"
   ]
  },
  {
   "cell_type": "markdown",
   "metadata": {},
   "source": [
    "于是有$G(n) = \\sum^n_{i=1}G(i-1)G(n-i),G(0) = 0, G(1) = 1$,从而写出递归代码，但是是超时的："
   ]
  },
  {
   "cell_type": "code",
   "execution_count": null,
   "metadata": {},
   "outputs": [],
   "source": [
    "class Solution {\n",
    "public:\n",
    "    int numTrees(int n) {\n",
    "        if(n == 0) return 0;\n",
    "        if(n == 1) return 1;\n",
    "        int g_n = 0;\n",
    "        for(int i = 1; i <= n; ++i){\n",
    "            int g_left = numTrees(i - 1);\n",
    "            int g_right = numTrees(n - i);\n",
    "            int f_i = g_left * g_right == 0 ? (g_left == 0 ? g_right : g_left ) : g_left * g_right;\n",
    "            g_n += f_i;\n",
    "        }\n",
    "        return g_n;\n",
    "    }\n",
    "};"
   ]
  },
  {
   "cell_type": "markdown",
   "metadata": {},
   "source": [
    "进一步有：$$G(n) = G(0)G(n-1)+G(1)G(n-2)+...+G(n-1)G(0)$$"
   ]
  },
  {
   "cell_type": "markdown",
   "metadata": {},
   "source": [
    "此处的乘积为笛卡尔积。因为$G(n)$依赖于$G(n-1)$所以我们从小到大求出就可以了。"
   ]
  },
  {
   "cell_type": "code",
   "execution_count": null,
   "metadata": {},
   "outputs": [],
   "source": [
    "class Solution {\n",
    "public:\n",
    "    int numTrees(int n) {\n",
    "        if(n == 0) return 0;\n",
    "        if(n == 1) return 1;\n",
    "        vector<int> G(n + 1, 0);\n",
    "        G[0] = 1;  // 笛卡尔积令其为1\n",
    "        G[1] = 1;\n",
    "        for(int i = 2; i <= n; ++i)\n",
    "            for(int j = 1; j < i + 1; ++j)\n",
    "                G[i] += G[j - 1] * G[i - j];\n",
    "        return G[n];\n",
    "    }\n",
    "};"
   ]
  }
 ],
 "metadata": {
  "kernelspec": {
   "display_name": "Python 3",
   "language": "python",
   "name": "python3"
  },
  "language_info": {
   "codemirror_mode": {
    "name": "ipython",
    "version": 3
   },
   "file_extension": ".py",
   "mimetype": "text/x-python",
   "name": "python",
   "nbconvert_exporter": "python",
   "pygments_lexer": "ipython3",
   "version": "3.8.3"
  }
 },
 "nbformat": 4,
 "nbformat_minor": 4
}
