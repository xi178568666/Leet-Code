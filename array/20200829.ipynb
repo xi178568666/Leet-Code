{
 "cells": [
  {
   "cell_type": "markdown",
   "metadata": {},
   "source": [
    "# 2020年8月29日"
   ]
  },
  {
   "attachments": {
    "image.png": {
     "image/png": "[encoded data removed]"
    }
   },
   "cell_type": "markdown",
   "metadata": {},
   "source": [
    "### 118 杨辉三角\n",
    "给定一个非负整数 numRows，生成杨辉三角的前 numRows 行。\n",
    "\n",
    "![image.png](attachment:image.png)\n",
    "\n",
    "在杨辉三角中，每个数是它左上方和右上方的数的和。\n",
    "\n",
    "示例:\n",
    "\n",
    "输入: 5\n",
    "输出:\n",
    "[\n",
    "     [1],\n",
    "    [1,1],\n",
    "   [1,2,1],\n",
    "  [1,3,3,1],\n",
    " [1,4,6,4,1]\n",
    "]\n",
    "\n",
    "来源：力扣（LeetCode）\n",
    "链接：https://leetcode-cn.com/problems/pascals-triangle\n",
    "著作权归领扣网络所有。商业转载请联系官方授权，非商业转载请注明出处。"
   ]
  },
  {
   "cell_type": "markdown",
   "metadata": {},
   "source": [
    "#### 思路\n",
    "首先观察到每一行的开头和结尾数字都是1，第i行就有i个数。\n",
    "第i行的第j个数等于第i-1行的第j-1和j两个数相加，因此可以写出答案。"
   ]
  },
  {
   "cell_type": "code",
   "execution_count": null,
   "metadata": {},
   "outputs": [],
   "source": [
    "class Solution {\n",
    "public:\n",
    "    vector<vector<int>> generate(int numRows) {\n",
    "        vector<vector<int>> anser;\n",
    "        if(numRows == 0) return anser;\n",
    "        vector<int> row1;\n",
    "        row1.push_back(1);\n",
    "        anser.push_back(row1); \n",
    "        for(int i = 1; i < numRows; ++i){\n",
    "            vector<int> rowi;\n",
    "            rowi.push_back(1);\n",
    "            for(int j = 1; j < i; ++j)\n",
    "                rowi.push_back(anser[i - 1][j - 1] + anser[i - 1][j]);\n",
    "            rowi.push_back(1);\n",
    "            anser.push_back(rowi);\n",
    "        }\n",
    "        return anser;\n",
    "    }\n",
    "};"
   ]
  },
  {
   "attachments": {
    "image.png": {
     "image/png": "[encoded data removed]"
    }
   },
   "cell_type": "markdown",
   "metadata": {},
   "source": [
    "### 119 杨辉三角2\n",
    "给定一个非负索引 k，其中 k ≤ 33，返回杨辉三角的第 k 行。\n",
    "\n",
    "![image.png](attachment:image.png)\n",
    "\n",
    "在杨辉三角中，每个数是它左上方和右上方的数的和。\n",
    "\n",
    "示例:\n",
    "\n",
    "输入: 3\n",
    "输出: [1,3,3,1]\n",
    "进阶：\n",
    "\n",
    "你可以优化你的算法到 O(k) 空间复杂度吗？\n",
    "\n",
    "来源：力扣（LeetCode）\n",
    "链接：https://leetcode-cn.com/problems/pascals-triangle-ii\n",
    "著作权归领扣网络所有。商业转载请联系官方授权，非商业转载请注明出处。"
   ]
  },
  {
   "cell_type": "markdown",
   "metadata": {},
   "source": [
    "#### 思路\n",
    "杨辉三角是二项式系数在三角形中的一种排列。第i行即为$(1 + x)^i$展开后x的系数。"
   ]
  },
  {
   "cell_type": "markdown",
   "metadata": {},
   "source": [
    "第i行第m个数为$C(i, m-1) =\\frac{i!}{(m-1)!(i-m+1)!} $"
   ]
  },
  {
   "cell_type": "markdown",
   "metadata": {},
   "source": [
    "第i行第m+1个数为$C(i, m) =\\frac{i!}{m!(i-m)!} = C(i, m-1)\\frac{ (i-m+1)}{m}$"
   ]
  },
  {
   "cell_type": "code",
   "execution_count": null,
   "metadata": {},
   "outputs": [],
   "source": [
    "class Solution {\n",
    "public:\n",
    "    vector<int> getRow(int rowIndex) {\n",
    "        vector<int> row;\n",
    "        if (rowIndex < 0) return row;\n",
    "        row.push_back(1);\n",
    "        for(int i = 1; i < rowIndex + 1; ++i){\n",
    "            row.push_back(static_cast<int>((double)row[i - 1] * (rowIndex - i + 1) / i ));\n",
    "        }\n",
    "        return row;\n",
    "    }\n",
    "};"
   ]
  },
  {
   "cell_type": "markdown",
   "metadata": {},
   "source": [
    "需要注意的是，第8行如果不先转换为double可能会产生溢出"
   ]
  },
  {
   "cell_type": "markdown",
   "metadata": {},
   "source": [
    "### 121 买卖股票的最佳时机\n",
    "给定一个数组，它的第 i 个元素是一支给定股票第 i 天的价格。\n",
    "\n",
    "如果你最多只允许完成一笔交易（即买入和卖出一支股票一次），设计一个算法来计算你所能获取的最大利润。\n",
    "\n",
    "注意：你不能在买入股票前卖出股票。\n",
    "\n",
    " \n",
    "\n",
    "示例 1:\n",
    "\n",
    "输入: [7,1,5,3,6,4]\n",
    "输出: 5\n",
    "解释: 在第 2 天（股票价格 = 1）的时候买入，在第 5 天（股票价格 = 6）的时候卖出，最大利润 = 6-1 = 5 。\n",
    "     注意利润不能是 7-1 = 6, 因为卖出价格需要大于买入价格；同时，你不能在买入前卖出股票。\n",
    "示例 2:\n",
    "\n",
    "输入: [7,6,4,3,1]\n",
    "输出: 0\n",
    "解释: 在这种情况下, 没有交易完成, 所以最大利润为 0。\n",
    "\n",
    "来源：力扣（LeetCode）\n",
    "链接：https://leetcode-cn.com/problems/best-time-to-buy-and-sell-stock\n",
    "著作权归领扣网络所有。商业转载请联系官方授权，非商业转载请注明出处。"
   ]
  },
  {
   "cell_type": "markdown",
   "metadata": {},
   "source": [
    "#### 思路\n",
    "用$f(i)$表示第$i$天卖出股票的最大收益，假设数组中共有n个元素，那么我们的目标转为:\n",
    "$max_{0<=i<n-1}f(i)$"
   ]
  },
  {
   "cell_type": "markdown",
   "metadata": {},
   "source": [
    "现在问题是怎么求得$f(i)$?我们buy[j]表示j天买入，sale[i]表示第i天卖出。那么$f(i) = sale[i] - buy[j]$，显而易见的是最小的buy[j]使$f(i)$最大。"
   ]
  },
  {
   "cell_type": "code",
   "execution_count": null,
   "metadata": {},
   "outputs": [],
   "source": [
    "class Solution {\n",
    "public:\n",
    "    int maxProfit(vector<int>& prices) {\n",
    "        if(prices.empty()) return 0;\n",
    "        int max_payoff = 0;\n",
    "        for(int i = 0; i < prices.size(); ++i){\n",
    "            int min_buy = INT_MAX;\n",
    "            int payoff = 0;\n",
    "            for(int j = 0; j < i; ++j){\n",
    "                if(prices[j] < min_buy) min_buy = prices[j];\n",
    "            }\n",
    "            if(prices[i] - min_buy > 0) payoff = prices[i] - min_buy;\n",
    "            max_payoff = max(max_payoff, payoff);\n",
    "        }\n",
    "        return max_payoff;\n",
    "    }\n",
    "};"
   ]
  },
  {
   "cell_type": "markdown",
   "metadata": {},
   "source": [
    "这里每次都去前面的子数组中寻找最小值，实际上并不需要这样，也就是说，如果prices[i]之前的数组的最小值是min即$argmin \\{ prices[0],...,prices[i-1]\\} = min$,那么包括prices[i]的最小值是$min(prices[i], min)$"
   ]
  },
  {
   "cell_type": "code",
   "execution_count": null,
   "metadata": {},
   "outputs": [],
   "source": [
    "class Solution {\n",
    "public:\n",
    "    int maxProfit(vector<int>& prices) {\n",
    "        if(prices.empty()) return 0;\n",
    "        int max_payoff = 0;\n",
    "        int min_buy = prices[0];\n",
    "        int payoff = 0;\n",
    "        for(int i = 1; i < prices.size(); ++i){\n",
    "            payoff = prices[i] - min_buy;\n",
    "            min_buy = prices[i] < min_buy ? prices[i] : min_buy;\n",
    "            max_payoff = payoff > max_payoff ? payoff : max_payoff;\n",
    "        }\n",
    "        return max_payoff;\n",
    "    }\n",
    "};"
   ]
  },
  {
   "cell_type": "markdown",
   "metadata": {},
   "source": [
    "一个小经验是min_buy = prices[i] < min_buy ? prices[i] : min_buy;这个表达式比if(prices[j] < min_buy) min_buy = prices[j];更快"
   ]
  }
 ],
 "metadata": {
  "kernelspec": {
   "display_name": "Python 3",
   "language": "python",
   "name": "python3"
  },
  "language_info": {
   "codemirror_mode": {
    "name": "ipython",
    "version": 3
   },
   "file_extension": ".py",
   "mimetype": "text/x-python",
   "name": "python",
   "nbconvert_exporter": "python",
   "pygments_lexer": "ipython3",
   "version": "3.8.3"
  }
 },
 "nbformat": 4,
 "nbformat_minor": 4
}
