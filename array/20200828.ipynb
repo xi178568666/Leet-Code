{
 "cells": [
  {
   "cell_type": "markdown",
   "metadata": {},
   "source": [
    "# 2020年8月28日\n",
    "### 657.机器人能否返回原点\n",
    "在二维平面上，有一个机器人从原点 (0, 0) 开始。给出它的移动顺序，判断这个机器人在完成移动后是否在 (0, 0) 处结束。\n",
    "\n",
    "移动顺序由字符串表示。字符 move[i] 表示其第 i 次移动。机器人的有效动作有 R（右），L（左），U（上）和 D（下）。如果机器人在完成所有动作后返回原点，则返回 true。否则，返回 false。\n",
    "\n",
    "注意：机器人“面朝”的方向无关紧要。 “R” 将始终使机器人向右移动一次，“L” 将始终向左移动等。此外，假设每次移动机器人的移动幅度相同。\n",
    "\n",
    " \n",
    "\n",
    "示例 1:\n",
    "\n",
    "输入: \"UD\"\n",
    "输出: true\n",
    "解释：机器人向上移动一次，然后向下移动一次。所有动作都具有相同的幅度，因此它最终回到它开始的原点。因此，我们返回 true。\n",
    "示例 2:\n",
    "\n",
    "输入: \"LL\"\n",
    "输出: false\n",
    "解释：机器人向左移动两次。它最终位于原点的左侧，距原点有两次 “移动” 的距离。我们返回 false，因为它在移动结束时没有返回原点。\n",
    "\n",
    "来源：力扣（LeetCode）\n",
    "链接：https://leetcode-cn.com/problems/robot-return-to-origin\n",
    "著作权归领扣网络所有。商业转载请联系官方授权，非商业转载请注明出处。"
   ]
  },
  {
   "attachments": {
    "image.png": {
     "image/png": "[encoded data removed]"
    }
   },
   "cell_type": "markdown",
   "metadata": {},
   "source": [
    "#### 思路\n",
    "\n",
    "![image.png](attachment:image.png)"
   ]
  },
  {
   "cell_type": "markdown",
   "metadata": {},
   "source": [
    "机器人在平面上移动改变的是机器人的位置，两个维度，假设机器人当前坐标点是(x,y)，向右移动x + 1,向左移动x - 1,向上移动y + 1,向下移动y - 1,最后如果机器人的坐标点等于原点，那么他就回到了原来的位置。"
   ]
  },
  {
   "cell_type": "markdown",
   "metadata": {},
   "source": [
    "C++ 代码："
   ]
  },
  {
   "cell_type": "code",
   "execution_count": null,
   "metadata": {},
   "outputs": [],
   "source": [
    "class Solution {\n",
    "public:\n",
    "    bool judgeCircle(string moves) {\n",
    "        int x = 0, y = 0;\n",
    "        for(int i = 0; i < moves.length(); ++i){\n",
    "            if (moves[i] == 'L') {x -= 1; continue;}\n",
    "            if (moves[i] == 'R') {x += 1; continue;}\n",
    "            if (moves[i] == 'D') {y -= 1; continue;}\n",
    "            if (moves[i] == 'U') {y += 1; continue;}\n",
    "        }\n",
    "        if (x == 0 && y == 0) return true;\n",
    "        else return false;\n",
    "    }\n",
    "};"
   ]
  },
  {
   "cell_type": "markdown",
   "metadata": {},
   "source": [
    "### 7 整数反转\n",
    "给出一个 32 位的有符号整数，你需要将这个整数中每位上的数字进行反转。\n",
    "\n",
    "示例 1:\n",
    "\n",
    "输入: 123\n",
    "输出: 321  \n",
    " 示例 2:\n",
    "\n",
    "输入: -123\n",
    "输出: -321  \n",
    "示例 3: \n",
    "\n",
    "输入: 120\n",
    "输出: 21\n",
    "注意:\n",
    "\n",
    "假设我们的环境只能存储得下 32 位的有符号整数，则其数值范围为 [−231,  231 − 1]。请根据这个假设，如果反转后整数溢出那么就返回 0。\n",
    "\n",
    "来源：力扣（LeetCode）\n",
    "链接：https://leetcode-cn.com/problems/reverse-integer\n",
    "著作权归领扣网络所有。商业转载请联系官方授权，非商业转载请注明出处。\n"
   ]
  },
  {
   "cell_type": "markdown",
   "metadata": {},
   "source": [
    "#### 思路\n",
    "12345，假设要反转这个整数，那么，反转的结果是54321，我们只要按顺序取得5，4，3，2，1，就能得到结果。\n",
    "reverse_x = 0\n",
    "reverse_x = reverse_x * 10 + 5 // 5\n",
    "reverse_x = reverse_x * 10 + 4 // 54\n",
    "reverse_x = reverse_x * 10 + 3 // 543\n",
    "reverse_x = reverse_x * 10 + 2 // 5432\n",
    "reverse_x = reverse_x * 10 + 1 // 54321\n",
    "但是我们需要考虑溢出的问题，32位最大正数是2147483647,如果reverse_x > 214748364,且之后还有位数要加入，那么这时候就发生了溢出，reverse_x = 214748364那之后加的那个数比7大就发生了溢出。同理32位最小负数是-2147483648，如果，reverse_x < -214748364, 且之后还有位数，那么溢出，如果，reverse_x = -214748364 且之后的那一位数小于-8，那么溢出。"
   ]
  },
  {
   "cell_type": "markdown",
   "metadata": {},
   "source": [
    "C++ 代码："
   ]
  },
  {
   "cell_type": "code",
   "execution_count": null,
   "metadata": {},
   "outputs": [],
   "source": [
    "class Solution{\n",
    "public:\n",
    "    int reverse(int x){\n",
    "        int reverse_x = 0;\n",
    "        while(x != 0){\n",
    "            int temp = x % 10;\n",
    "            if (reverse_x > 214748364 || (reverse_x == 214748364 && temp > 7)) return 0;\n",
    "            if (reverse_x < -214748364 || (reverse_x == -214748364 && temp < -8)) return 0;\n",
    "            reverse_x = reverse_x * 10 + temp;\n",
    "            x = x / 10;\n",
    "        }\n",
    "        return reverse_x;\n",
    "    }\n",
    "};"
   ]
  },
  {
   "cell_type": "markdown",
   "metadata": {},
   "source": [
    ">+ 32位有符号整数最大值为$2^{31} - 1 = 2147483647$,最小值为$-2^{31} = 2147483648$"
   ]
  },
  {
   "cell_type": "markdown",
   "metadata": {},
   "source": [
    "### 26 删除排序数组中的重复项\n",
    "给定一个排序数组，你需要在 原地 删除重复出现的元素，使得每个元素只出现一次，返回移除后数组的新长度。\n",
    "\n",
    "不要使用额外的数组空间，你必须在 原地 修改输入数组 并在使用 O(1) 额外空间的条件下完成。\n",
    "\n",
    " \n",
    "\n",
    "示例 1:\n",
    "\n",
    "给定数组 nums = [1,1,2], \n",
    "\n",
    "函数应该返回新的长度 2, 并且原数组 nums 的前两个元素被修改为 1, 2。 \n",
    "\n",
    "你不需要考虑数组中超出新长度后面的元素。\n",
    "示例 2:\n",
    "\n",
    "给定 nums = [0,0,1,1,1,2,2,3,3,4],\n",
    "\n",
    "函数应该返回新的长度 5, 并且原数组 nums 的前五个元素被修改为 0, 1, 2, 3, 4。\n",
    "\n",
    "你不需要考虑数组中超出新长度后面的元素。\n",
    " \n",
    "\n",
    "说明:\n",
    "\n",
    "为什么返回数值是整数，但输出的答案是数组呢?\n",
    "\n",
    "请注意，输入数组是以「引用」方式传递的，这意味着在函数里修改输入数组对于调用者是可见的。\n",
    "\n",
    "你可以想象内部操作如下:\n",
    "\n",
    "// nums 是以“引用”方式传递的。也就是说，不对实参做任何拷贝\n",
    "int len = removeDuplicates(nums);\n",
    "\n",
    "// 在函数里修改输入数组对于调用者是可见的。\n",
    "// 根据你的函数返回的长度, 它会打印出数组中该长度范围内的所有元素。\n",
    "for (int i = 0; i < len; i++) {\n",
    "    print(nums[i]);\n",
    "}\n",
    "\n",
    "来源：力扣（LeetCode）\n",
    "链接：https://leetcode-cn.com/problems/remove-duplicates-from-sorted-array\n",
    "著作权归领扣网络所有。商业转载请联系官方授权，非商业转载请注明出处。"
   ]
  },
  {
   "cell_type": "markdown",
   "metadata": {},
   "source": [
    "#### 思路\n",
    "首先，最直接的想法是按顺序判断数组的后一个数nums[i+1]和当前数nums[i]是否相同，如果相同，从i+2开始依次将后一个值赋给前一个。"
   ]
  },
  {
   "cell_type": "code",
   "execution_count": null,
   "metadata": {},
   "outputs": [],
   "source": [
    "class Solution {\n",
    "public:\n",
    "    int removeDuplicates(vector<int>& nums) {\n",
    "        int length = nums.size();\n",
    "\n",
    "        for(int i = 1; i < nums.size(); ++i) {\n",
    "            if (i == length) break;\n",
    "            if(nums[i - 1] == nums[i]){\n",
    "                for (int j = i; j < nums.size(); ++j){\n",
    "                    nums[j - 1] = nums[j ];\n",
    "                }\n",
    "                length--;\n",
    "                i --;\n",
    "            }\n",
    "        }\n",
    "        return length;\n",
    "    }\n",
    "};"
   ]
  },
  {
   "cell_type": "markdown",
   "metadata": {},
   "source": [
    "实际上我们不需要复制数组，只需要复制值就可以了，因为我们不需要考虑超出新长度后的元素。这种方法是从数组中找出唯一元素，依次更新原数组。"
   ]
  },
  {
   "cell_type": "code",
   "execution_count": null,
   "metadata": {},
   "outputs": [],
   "source": [
    "class Solution {\n",
    "public:\n",
    "    int removeDuplicates(vector<int>& nums) {\n",
    "        if(nums.size() == 0) return 0;\n",
    "        int i = 0;\n",
    "        for(int j = 1; j < nums.size(); ++j){\n",
    "            if(nums[j] != nums[i]){\n",
    "                ++i;\n",
    "                nums[i] = nums[j];\n",
    "            }\n",
    "        }\n",
    "        return i + 1;\n",
    "    }\n",
    "};"
   ]
  },
  {
   "cell_type": "markdown",
   "metadata": {},
   "source": [
    "判断数组的长度为是否为0，使用nums.empty()的速度比nums.size()快。"
   ]
  },
  {
   "cell_type": "markdown",
   "metadata": {},
   "source": [
    "### 27 移除元素\n",
    "给你一个数组 nums 和一个值 val，你需要 原地 移除所有数值等于 val 的元素，并返回移除后数组的新长度。\n",
    "\n",
    "不要使用额外的数组空间，你必须仅使用 O(1) 额外空间并 原地 修改输入数组。\n",
    "\n",
    "元素的顺序可以改变。你不需要考虑数组中超出新长度后面的元素。\n",
    "\n",
    " \n",
    "\n",
    "示例 1:\n",
    "\n",
    "给定 nums = [3,2,2,3], val = 3,\n",
    "\n",
    "函数应该返回新的长度 2, 并且 nums 中的前两个元素均为 2。\n",
    "\n",
    "你不需要考虑数组中超出新长度后面的元素。\n",
    "示例 2:\n",
    "\n",
    "给定 nums = [0,1,2,2,3,0,4,2], val = 2,\n",
    "\n",
    "函数应该返回新的长度 5, 并且 nums 中的前五个元素为 0, 1, 3, 0, 4。\n",
    "\n",
    "注意这五个元素可为任意顺序。\n",
    "\n",
    "你不需要考虑数组中超出新长度后面的元素。\n",
    " \n",
    "\n",
    "说明:\n",
    "\n",
    "为什么返回数值是整数，但输出的答案是数组呢?\n",
    "\n",
    "请注意，输入数组是以「引用」方式传递的，这意味着在函数里修改输入数组对于调用者是可见的。\n",
    "\n",
    "你可以想象内部操作如下:\n",
    "\n",
    "// nums 是以“引用”方式传递的。也就是说，不对实参作任何拷贝\n",
    "int len = removeElement(nums, val);\n",
    "\n",
    "// 在函数里修改输入数组对于调用者是可见的。\n",
    "// 根据你的函数返回的长度, 它会打印出数组中 该长度范围内 的所有元素。\n",
    "for (int i = 0; i < len; i++) {\n",
    "    print(nums[i]);\n",
    "}\n",
    "\n",
    "来源：力扣（LeetCode）\n",
    "链接：https://leetcode-cn.com/problems/remove-element\n",
    "著作权归领扣网络所有。商业转载请联系官方授权，非商业转载请注明出处。"
   ]
  },
  {
   "cell_type": "markdown",
   "metadata": {},
   "source": [
    "#### 思路\n",
    "一开始是按照上一题的思路，按题目的要求之后，新数组的长度小于等于原数组，我们使用一个指针i指向数组移动的位置，另一个指针j指向新数组的末尾，如果i指向的元素不等于val，那么将其添加到新数组的末尾。"
   ]
  },
  {
   "cell_type": "code",
   "execution_count": null,
   "metadata": {},
   "outputs": [],
   "source": [
    "class Solution {\n",
    "public:\n",
    "    int removeElement(vector<int>& nums, int val) {\n",
    "        int j = 0;\n",
    "        for(int i = 0; i < nums.size(); ++i){\n",
    "            if(nums[i] != val){\n",
    "                nums[j] = nums[i];\n",
    "                ++j;\n",
    "            }\n",
    "        }\n",
    "        return j; \n",
    "    }\n",
    "};"
   ]
  },
  {
   "cell_type": "markdown",
   "metadata": {},
   "source": [
    "### 35 搜索插入位置\n",
    "给定一个排序数组和一个目标值，在数组中找到目标值，并返回其索引。如果目标值不存在于数组中，返回它将会被按顺序插入的位置。\n",
    "\n",
    "你可以假设数组中无重复元素。\n",
    "\n",
    "示例 1:\n",
    "\n",
    "输入: [1,3,5,6], 5\n",
    "输出: 2\n",
    "示例 2:\n",
    "\n",
    "输入: [1,3,5,6], 2\n",
    "输出: 1\n",
    "示例 3:\n",
    "\n",
    "输入: [1,3,5,6], 7\n",
    "输出: 4\n",
    "示例 4:\n",
    "\n",
    "输入: [1,3,5,6], 0\n",
    "输出: 0\n",
    "\n",
    "来源：力扣（LeetCode）\n",
    "链接：https://leetcode-cn.com/problems/search-insert-position\n",
    "著作权归领扣网络所有。商业转载请联系官方授权，非商业转载请注明出处。"
   ]
  },
  {
   "cell_type": "markdown",
   "metadata": {},
   "source": [
    "#### 思路\n",
    "考虑使用二分查找。\n",
    "l = 0;\n",
    "r = nums.size() - 1;\n",
    "mid = nums.size() / 2\n",
    "如果目标值不存在与数组中，那么，使用二分查找我们会得到最接近目标值的元素的位置idx，如果目标值x < nums[idx]那么插入位置为idx - 1,否则目标值x > nums[idx],插入位置为idx + 1"
   ]
  },
  {
   "cell_type": "code",
   "execution_count": null,
   "metadata": {},
   "outputs": [],
   "source": [
    "class Solution {\n",
    "public:\n",
    "    int searchInsert(vector<int>& nums, int target) {\n",
    "        int mid=0, left = 0, right = nums.size() - 1;##\n",
    "        while(left <= right) { ##\n",
    "            mid = (left + right) / 2;\n",
    "            if(target == nums[mid]) return mid;\n",
    "            if(target < nums[mid]){\n",
    "                right = mid - 1;\n",
    "            }\n",
    "            if(target > nums[mid]) left = mid + 1;\n",
    "        }\n",
    "        if(target < nums[mid]) return mid;\n",
    "        if(target > nums[mid]) return mid + 1;\n",
    "        return 0;\n",
    "    }\n",
    "};"
   ]
  },
  {
   "cell_type": "markdown",
   "metadata": {},
   "source": [
    "### 53 最大子序和\n",
    "给定一个整数数组 nums ，找到一个具有最大和的连续子数组（子数组最少包含一个元素），返回其最大和。\n",
    "\n",
    "示例:\n",
    "\n",
    "输入: [-2,1,-3,4,-1,2,1,-5,4]\n",
    "输出: 6\n",
    "解释: 连续子数组 [4,-1,2,1] 的和最大，为 6。\n",
    "进阶:\n",
    "\n",
    "如果你已经实现复杂度为 O(n) 的解法，尝试使用更为精妙的分治法求解。\n",
    "\n",
    "来源：力扣（LeetCode）\n",
    "链接：https://leetcode-cn.com/problems/maximum-subarray\n",
    "著作权归领扣网络所有。商业转载请联系官方授权，非商业转载请注明出处。"
   ]
  },
  {
   "cell_type": "markdown",
   "metadata": {},
   "source": [
    "#### 思路\n",
    "使用动态规划的思想。假设数组nums的长度为n，下标为0,...,n-1。用$f(i)$表示以nums[i]为结尾的所有子串的最大值，那么我们的目标就是：\n",
    "$max_{0<= i <n}f(i)$"
   ]
  },
  {
   "cell_type": "markdown",
   "metadata": {},
   "source": [
    "现在问题转为怎么求得$f(i)$，由于字串的连续性，以nums[i]为结尾的字串去除nums[i]必然以nums[i - 1]为结尾，那么$f(i)=max(f(i - 1) + nums[i], nums[i])$"
   ]
  },
  {
   "cell_type": "code",
   "execution_count": null,
   "metadata": {},
   "outputs": [],
   "source": [
    "class Solution {\n",
    "public:\n",
    "    int maxSubArray(vector<int>& nums) {\n",
    "        int f_i = 0, max_answer = nums[0];\n",
    "        for(int i = 0; i < nums.size(); ++i){\n",
    "            f_i = max(f_i + nums[i], nums[i]);\n",
    "            max_answer = max(f_i, max_answer);\n",
    "        }\n",
    "        return max_answer;\n",
    "    }\n",
    "};"
   ]
  },
  {
   "cell_type": "markdown",
   "metadata": {},
   "source": [
    "### 66 加一\n",
    "给定一个由整数组成的非空数组所表示的非负整数，在该数的基础上加一。\n",
    "\n",
    "最高位数字存放在数组的首位， 数组中每个元素只存储单个数字。\n",
    "\n",
    "你可以假设除了整数 0 之外，这个整数不会以零开头。\n",
    "\n",
    "示例 1:\n",
    "\n",
    "输入: [1,2,3]\n",
    "输出: [1,2,4]\n",
    "解释: 输入数组表示数字 123。\n",
    "示例 2:\n",
    "\n",
    "输入: [4,3,2,1]\n",
    "输出: [4,3,2,2]\n",
    "解释: 输入数组表示数字 4321。\n",
    "\n",
    "来源：力扣（LeetCode）\n",
    "链接：https://leetcode-cn.com/problems/plus-one\n",
    "著作权归领扣网络所有。商业转载请联系官方授权，非商业转载请注明出处。"
   ]
  },
  {
   "cell_type": "markdown",
   "metadata": {},
   "source": [
    "#### 思路\n",
    "注意到输入的数组是非空且非负，那么直接取数组的最后一位加一就可以了，但是有一个问题，即产生进位，那么，如果产生进位我们就取数组的前一个数加一。如果是999这样的数，我们还需要在数组的前面插入1."
   ]
  },
  {
   "cell_type": "code",
   "execution_count": null,
   "metadata": {},
   "outputs": [],
   "source": [
    "class Solution {\n",
    "public:\n",
    "    vector<int> plusOne(vector<int>& digits) {\n",
    "        int idx = digits.size() - 1;\n",
    "        while(idx >= 0){\n",
    "            if(digits[idx] == 9) \n",
    "            {\n",
    "                digits[idx] = 0;\n",
    "                idx--; \n",
    "            }\n",
    "            else {\n",
    "                digits[idx]++;\n",
    "                break;\n",
    "            }\n",
    "        }\n",
    "        if(idx == -1) digits.insert(digits.begin(), 1);\n",
    "        return digits;\n",
    "    }\n",
    "};"
   ]
  }
 ],
 "metadata": {
  "kernelspec": {
   "display_name": "Python 3",
   "language": "python",
   "name": "python3"
  },
  "language_info": {
   "codemirror_mode": {
    "name": "ipython",
    "version": 3
   },
   "file_extension": ".py",
   "mimetype": "text/x-python",
   "name": "python",
   "nbconvert_exporter": "python",
   "pygments_lexer": "ipython3",
   "version": "3.8.3"
  }
 },
 "nbformat": 4,
 "nbformat_minor": 4
}
